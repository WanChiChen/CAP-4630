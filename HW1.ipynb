{
  "nbformat": 4,
  "nbformat_minor": 0,
  "metadata": {
    "colab": {
      "name": "HW1.ipynb",
      "provenance": [],
      "collapsed_sections": [],
      "authorship_tag": "ABX9TyOVwT8TvB0CP3Ky1Cizs2hP",
      "include_colab_link": true
    },
    "kernelspec": {
      "name": "python3",
      "display_name": "Python 3"
    }
  },
  "cells": [
    {
      "cell_type": "markdown",
      "metadata": {
        "id": "view-in-github",
        "colab_type": "text"
      },
      "source": [
        "<a href=\"https://colab.research.google.com/github/wc6255/CAP-4630/blob/master/HW1.ipynb\" target=\"_parent\"><img src=\"https://colab.research.google.com/assets/colab-badge.svg\" alt=\"Open In Colab\"/></a>"
      ]
    },
    {
      "cell_type": "markdown",
      "metadata": {
        "id": "0iwgx_rr1YkU",
        "colab_type": "text"
      },
      "source": [
        "#CAP 4630 Homework 1\n",
        "\n",
        "\n",
        "\n",
        "\n",
        "\n"
      ]
    },
    {
      "cell_type": "markdown",
      "metadata": {
        "id": "KafKbN25_Xz9",
        "colab_type": "text"
      },
      "source": [
        "#Defining Compatible Matrices\n",
        "Two matrices being compatible for matrix multiplication are defined as the following: \n",
        "\n",
        "Let $A$ be a matrix with $a$ rows and $b$ columns.\n",
        "\n",
        "Let $X$ be a matrix with $x$ rows and $y$ columns.\n",
        "\n",
        "$A$ and $B$ are compatible if and only if:\n",
        "\n",
        "$\\quad b=x$\n",
        "\n",
        "That is, the number of columns in $A$ is the same as the number of rows in $b$. "
      ]
    },
    {
      "cell_type": "markdown",
      "metadata": {
        "id": "UtR8RFXu_mWL",
        "colab_type": "text"
      },
      "source": [
        "#Matrix Multiplication Function \n",
        "The multiply_matrices functions takes in a $k$-length list of matrices as input and outputs the product of all of the matrices if a matrix $M_{i}$ is compatible with $M_{i+1}$ for all matrices in the list:\n",
        "\n",
        "$\\quad{M_{1}, M_{2}, ... M_{k}}$\n",
        "\n",
        "The output is an $m\\ x\\ n$ matrix where ${m}$ is the number of rows in $M_{1}$ and ${n}$ is the number of columns in $M_{k}$.\n"
      ]
    },
    {
      "cell_type": "code",
      "metadata": {
        "id": "JRIkPketO0p0",
        "colab_type": "code",
        "colab": {}
      },
      "source": [
        "import numpy as np\n",
        "def multiply_matrices (matrices):\n",
        "    product = matrices[0]\n",
        "    i = 0\n",
        "    j = len(matrices)\n",
        "    while i < j - 1:\n",
        "        try:\n",
        "            product = np.matmul(product, matrices[i + 1])\n",
        "        except:\n",
        "            print(\"Exception: Invalid Matrix Pair: Matrices\", i, \"& \", i + 1)\n",
        "            return\n",
        "        i = i + 1\n",
        "    print(product)\n",
        "    return"
      ],
      "execution_count": 0,
      "outputs": []
    },
    {
      "cell_type": "markdown",
      "metadata": {
        "id": "HKhHfSKBCSkr",
        "colab_type": "text"
      },
      "source": [
        "# Test Cases"
      ]
    },
    {
      "cell_type": "markdown",
      "metadata": {
        "id": "iUDxJQ5TCpOt",
        "colab_type": "text"
      },
      "source": [
        "$\\begin{bmatrix}\n",
        "1 & 2\\\\\n",
        "3 & 4\n",
        "\\end{bmatrix}*\n",
        "\\begin{bmatrix}\n",
        "5 & 6\\\\\n",
        "7 & 8\n",
        "\\end{bmatrix}*\n",
        "\\begin{bmatrix}\n",
        "5 & 6\\\\\n",
        "7 & 8\n",
        "\\end{bmatrix}$"
      ]
    },
    {
      "cell_type": "code",
      "metadata": {
        "id": "udKDx0sACX1p",
        "colab_type": "code",
        "colab": {
          "base_uri": "https://localhost:8080/",
          "height": 51
        },
        "outputId": "b4d6e9ab-5c9e-4f5b-c18f-97fb74e0ebad"
      },
      "source": [
        "x = np.array([[1, 2],[3, 4]], dtype = np.float64)\n",
        "y = np.array([[5, 6],[7, 8]], dtype = np.float64)\n",
        "z = np.array([[5, 6],[7, 8]], dtype = np.float64)\n",
        "lists = [x, y, z]\n",
        "multiply_matrices(lists)\n"
      ],
      "execution_count": 155,
      "outputs": [
        {
          "output_type": "stream",
          "text": [
            "[[249. 290.]\n",
            " [565. 658.]]\n"
          ],
          "name": "stdout"
        }
      ]
    },
    {
      "cell_type": "markdown",
      "metadata": {
        "id": "RQX5TFKCCsG1",
        "colab_type": "text"
      },
      "source": [
        "$\\begin{bmatrix}\n",
        "1 & 2\\\\\n",
        "3 & 4\n",
        "\\end{bmatrix}*\n",
        "\\begin{bmatrix}\n",
        "1 & 2\\\\\n",
        "3 & 4\n",
        "\\end{bmatrix}*\n",
        "\\begin{bmatrix}\n",
        "1 & 2\\\\\n",
        "3 & 4\n",
        "\\end{bmatrix}*\n",
        "\\begin{bmatrix}\n",
        "1 & 2\\\\\n",
        "3 & 4\n",
        "\\end{bmatrix}*\n",
        "\\begin{bmatrix}\n",
        "1 & 2\\\\\n",
        "3 & 4\n",
        "\\end{bmatrix}*\n",
        "\\begin{bmatrix}\n",
        "1 & 2\\\\\n",
        "3 & 4\n",
        "\\end{bmatrix}*\n",
        "\\begin{bmatrix}\n",
        "1 & 2\\\\\n",
        "3 & 4\n",
        "\\end{bmatrix}*\n",
        "\\begin{bmatrix}\n",
        "1 & 2\\\\\n",
        "3 & 4\n",
        "\\end{bmatrix}*\n",
        "\\begin{bmatrix}\n",
        "1 & 2\\\\\n",
        "3 & 4\n",
        "\\end{bmatrix}*\n",
        "\\begin{bmatrix}\n",
        "1 & 2\\\\\n",
        "3 & 4\n",
        "\\end{bmatrix}$"
      ]
    },
    {
      "cell_type": "code",
      "metadata": {
        "id": "U7T5EKTTCs78",
        "colab_type": "code",
        "colab": {
          "base_uri": "https://localhost:8080/",
          "height": 51
        },
        "outputId": "b10b2634-55c0-4acf-98a9-cb81e2242519"
      },
      "source": [
        "i = 0\n",
        "lists = []\n",
        "while i < 10:\n",
        "     lists.append(np.array([[1, 2],[3, 4]], dtype = np.float64))\n",
        "     i = i + 1\n",
        "multiply_matrices(lists)"
      ],
      "execution_count": 158,
      "outputs": [
        {
          "output_type": "stream",
          "text": [
            "[[ 4783807.  6972050.]\n",
            " [10458075. 15241882.]]\n"
          ],
          "name": "stdout"
        }
      ]
    },
    {
      "cell_type": "markdown",
      "metadata": {
        "id": "G4S_kPZPCt1J",
        "colab_type": "text"
      },
      "source": [
        "$\\begin{bmatrix}\n",
        "1 & 2\\\\\n",
        "3 & 4\n",
        "\\end{bmatrix}*\n",
        "\\begin{bmatrix}\n",
        "5 & 6\\\\\n",
        "7 & 8\\\\\n",
        "9 & 10\n",
        "\\end{bmatrix}*\n",
        "\\begin{bmatrix}\n",
        "5 & 6\\\\\n",
        "7 & 8\n",
        "\\end{bmatrix}$"
      ]
    },
    {
      "cell_type": "code",
      "metadata": {
        "id": "CiiBmp0YCuFh",
        "colab_type": "code",
        "colab": {
          "base_uri": "https://localhost:8080/",
          "height": 34
        },
        "outputId": "ceda336f-a3b9-475c-ad32-24daf6996d3e"
      },
      "source": [
        "x = np.array([[1, 2],[3, 4]], dtype = np.float64)\n",
        "y = np.array([[5, 6],[7, 8], [9,10]], dtype = np.float64)\n",
        "z = np.array([[5, 6],[7, 8]], dtype = np.float64)\n",
        "lists = [x, y, z]\n",
        "multiply_matrices(lists)"
      ],
      "execution_count": 172,
      "outputs": [
        {
          "output_type": "stream",
          "text": [
            "Exception: Invalid Matrix Pair: Matrices 0 &  1\n"
          ],
          "name": "stdout"
        }
      ]
    },
    {
      "cell_type": "markdown",
      "metadata": {
        "id": "WK0ItwxUDyKQ",
        "colab_type": "text"
      },
      "source": [
        "$\\begin{bmatrix}\n",
        "1.3 & 2\\\\\n",
        "3 & 4\\\\\n",
        "5.5 & 6\n",
        "\\end{bmatrix}*\n",
        "\\begin{bmatrix}\n",
        "5.5 & 6\\\\\n",
        "7 & 8\n",
        "\\end{bmatrix}*\n",
        "\\begin{bmatrix}\n",
        "5 & 6\\\\\n",
        "7 & 8\n",
        "\\end{bmatrix}$"
      ]
    },
    {
      "cell_type": "code",
      "metadata": {
        "id": "zLy4whR6DxMU",
        "colab_type": "code",
        "colab": {
          "base_uri": "https://localhost:8080/",
          "height": 68
        },
        "outputId": "528d5804-67f9-4a8c-d2a9-b67dbc9749c2"
      },
      "source": [
        "x = np.array([[1.3, 2],[3, 4], [5.5,6]], dtype = np.float64)\n",
        "y = np.array([[5.5, 6],[7, 8]], dtype = np.float64)\n",
        "z = np.array([[5, 6],[7, 8]], dtype = np.float64)\n",
        "lists = [x, y, z]\n",
        "multiply_matrices(lists)"
      ],
      "execution_count": 174,
      "outputs": [
        {
          "output_type": "stream",
          "text": [
            "[[ 272.35  317.3 ]\n",
            " [ 572.5   667.  ]\n",
            " [ 928.25 1081.5 ]]\n"
          ],
          "name": "stdout"
        }
      ]
    },
    {
      "cell_type": "markdown",
      "metadata": {
        "id": "94qsarvtFdSe",
        "colab_type": "text"
      },
      "source": [
        "$\\begin{bmatrix}\n",
        "1 \\\\\n",
        "2\n",
        "\\end{bmatrix}*\n",
        "\\begin{bmatrix}\n",
        "3 & 4\n",
        "\\end{bmatrix}\n",
        "$"
      ]
    },
    {
      "cell_type": "code",
      "metadata": {
        "id": "KXCsBJ7dFdyp",
        "colab_type": "code",
        "colab": {
          "base_uri": "https://localhost:8080/",
          "height": 51
        },
        "outputId": "29799863-c0e5-4cbd-9894-40f76f3d66f9"
      },
      "source": [
        "x = np.array([[1], [2]])\n",
        "y = np.array([[3,4]])\n",
        "lists = [x, y]\n",
        "multiply_matrices(lists)"
      ],
      "execution_count": 163,
      "outputs": [
        {
          "output_type": "stream",
          "text": [
            "[[3 4]\n",
            " [6 8]]\n"
          ],
          "name": "stdout"
        }
      ]
    },
    {
      "cell_type": "markdown",
      "metadata": {
        "id": "OILLGRPlGhyG",
        "colab_type": "text"
      },
      "source": [
        "$\\begin{bmatrix}\n",
        "3 & 4\n",
        "\\end{bmatrix}*\n",
        "\\begin{bmatrix}\n",
        "1 \\\\\n",
        "2\n",
        "\\end{bmatrix}\n",
        "$"
      ]
    },
    {
      "cell_type": "code",
      "metadata": {
        "id": "Re-r8sGHGiV9",
        "colab_type": "code",
        "colab": {
          "base_uri": "https://localhost:8080/",
          "height": 34
        },
        "outputId": "65ea7c4b-a391-450d-d967-8134aaecd60f"
      },
      "source": [
        "x = np.array([[1], [2]])\n",
        "y = np.array([[3,4]])\n",
        "lists = [y, x]\n",
        "multiply_matrices(lists)"
      ],
      "execution_count": 164,
      "outputs": [
        {
          "output_type": "stream",
          "text": [
            "[[11]]\n"
          ],
          "name": "stdout"
        }
      ]
    },
    {
      "cell_type": "markdown",
      "metadata": {
        "id": "ySSZR0_XG8HQ",
        "colab_type": "text"
      },
      "source": [
        "$\\begin{bmatrix}\n",
        "1\n",
        "\\end{bmatrix}*\n",
        "\\begin{bmatrix}\n",
        "3 & 4\n",
        "\\end{bmatrix}\n",
        "$"
      ]
    },
    {
      "cell_type": "code",
      "metadata": {
        "id": "Unjuq2BTG8qH",
        "colab_type": "code",
        "colab": {
          "base_uri": "https://localhost:8080/",
          "height": 34
        },
        "outputId": "582c808f-1f75-4cf5-d372-11d207ce9d22"
      },
      "source": [
        "x = np.array([[1]])\n",
        "y = np.array([[3, 4]])\n",
        "lists = [x, y]\n",
        "multiply_matrices(lists)"
      ],
      "execution_count": 170,
      "outputs": [
        {
          "output_type": "stream",
          "text": [
            "[[3 4]]\n"
          ],
          "name": "stdout"
        }
      ]
    }
  ]
}